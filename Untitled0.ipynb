{
  "cells": [
    {
      "cell_type": "code",
      "execution_count": null,
      "metadata": {
        "id": "bsH6XdrsXe8m"
      },
      "outputs": [],
      "source": [
        "import tensorflow as tf\n",
        "from tensorflow.keras.preprocessing import image_dataset_from_directory\n",
        "from tensorflow.keras.applications import MobileNetV2\n",
        "from tensorflow.keras.applications.mobilenet_v2 import preprocess_input\n",
        "from sklearn.linear_model import LogisticRegression\n",
        "from sklearn.metrics import accuracy_score\n",
        "import numpy as np\n",
        "import random\n",
        "import matplotlib.pyplot as plt\n",
        "import ipywidgets as widgets\n",
        "from IPython.display import display, clear_output # For displaying widgets and clearing output"
      ]
    },
    {
      "cell_type": "code",
      "execution_count": null,
      "metadata": {
        "colab": {
          "base_uri": "https://localhost:8080/"
        },
        "id": "T8o97xxFXuuy",
        "outputId": "6a6d65b2-2149-4d7e-9f02-dccc3b7ccfd9"
      },
      "outputs": [
        {
          "name": "stdout",
          "output_type": "stream",
          "text": [
            "Mounted at /content/drive\n"
          ]
        }
      ],
      "source": [
        "from google.colab import drive\n",
        "drive.mount('/content/drive')"
      ]
    },
    {
      "cell_type": "code",
      "execution_count": null,
      "metadata": {
        "id": "Z9ntJhWRX1jB"
      },
      "outputs": [],
      "source": [
        "\n",
        "# --- 1. Configuration and Data Loading ---\n",
        "data_dir = \"/content/drive/My Drive/Dataset/archive\""
      ]
    },
    {
      "cell_type": "code",
      "execution_count": null,
      "metadata": {
        "colab": {
          "base_uri": "https://localhost:8080/"
        },
        "id": "TI9duAvBDeFS",
        "outputId": "55d44977-d78f-4235-816a-aa9905bd938d"
      },
      "outputs": [
        {
          "name": "stdout",
          "output_type": "stream",
          "text": [
            "Loading data from: /content/drive/My Drive/Dataset/archive\n",
            "Found 1000 files belonging to 2 classes.\n",
            "Using 800 files for training.\n",
            "Found 1000 files belonging to 2 classes.\n",
            "Using 200 files for validation.\n"
          ]
        }
      ],
      "source": [
        "# Image size & batch\n",
        "IMG_SIZE = 160\n",
        "BATCH_SIZE = 32\n",
        "\n",
        "# Load dataset with validation split\n",
        "print(f\"Loading data from: {data_dir}\")\n",
        "train_ds = image_dataset_from_directory(\n",
        "    data_dir,\n",
        "    validation_split=0.2,   # 80/20 split for training/validation\n",
        "    subset=\"training\",\n",
        "    seed=123,               # Seed for reproducible split\n",
        "    image_size=(IMG_SIZE, IMG_SIZE),\n",
        "    batch_size=BATCH_SIZE\n",
        ")\n",
        "\n",
        "val_ds = image_dataset_from_directory(\n",
        "    data_dir,\n",
        "    validation_split=0.2,\n",
        "    subset=\"validation\",\n",
        "    seed=123,\n",
        "    image_size=(IMG_SIZE, IMG_SIZE),\n",
        "    batch_size=BATCH_SIZE\n",
        ")\n"
      ]
    },
    {
      "cell_type": "code",
      "execution_count": null,
      "metadata": {
        "colab": {
          "base_uri": "https://localhost:8080/"
        },
        "id": "gsJfortsEflD",
        "outputId": "5ce871c7-2fe4-47ad-861b-d9cf53241083"
      },
      "outputs": [
        {
          "name": "stdout",
          "output_type": "stream",
          "text": [
            "Data loading and preprocessing complete.\n"
          ]
        }
      ],
      "source": [
        "# Preprocessing for performance\n",
        "AUTOTUNE = tf.data.AUTOTUNE\n",
        "train_ds = train_ds.cache().shuffle(1000).prefetch(buffer_size=AUTOTUNE)\n",
        "val_ds = val_ds.cache().prefetch(buffer_size=AUTOTUNE)\n",
        "print(\"Data loading and preprocessing complete.\")"
      ]
    },
    {
      "cell_type": "code",
      "execution_count": null,
      "metadata": {
        "colab": {
          "background_save": true,
          "base_uri": "https://localhost:8080/"
        },
        "id": "qCDdUGgrEf5k",
        "outputId": "9a896e94-5f5b-4d4f-b19a-98e6fc81616b"
      },
      "outputs": [
        {
          "name": "stdout",
          "output_type": "stream",
          "text": [
            "Loading MobileNetV2 base model...\n",
            "Downloading data from https://storage.googleapis.com/tensorflow/keras-applications/mobilenet_v2/mobilenet_v2_weights_tf_dim_ordering_tf_kernels_1.0_160_no_top.h5\n",
            "\u001b[1m9406464/9406464\u001b[0m \u001b[32m━━━━━━━━━━━━━━━━━━━━\u001b[0m\u001b[37m\u001b[0m \u001b[1m0s\u001b[0m 0us/step\n",
            "MobileNetV2 loaded. Extracting embeddings...\n",
            "Extracted 1280 features per image. X_train shape: (800, 1280), X_val shape: (200, 1280)\n"
          ]
        }
      ],
      "source": [
        "# --- 2. Feature Extractor (MobileNetV2 Embeddings) ---\n",
        "# Load MobileNetV2 pre-trained on ImageNet without the top classification layer.\n",
        "# 'pooling=avg' adds a GlobalAveragePooling2D layer, outputting a 1280-feature vector.\n",
        "print(\"Loading MobileNetV2 base model...\")\n",
        "base_model = MobileNetV2(\n",
        "    weights='imagenet',        # Use pre-trained ImageNet weights\n",
        "    include_top=False,         # Exclude the classifier at the top\n",
        "    pooling='avg',             # Apply global average pooling\n",
        "    input_shape=(IMG_SIZE, IMG_SIZE, 3) # Input image dimensions (height, width, channels)\n",
        ")\n",
        "print(\"MobileNetV2 loaded. Extracting embeddings...\")\n",
        "\n",
        "def extract_embeddings(dataset):\n",
        "    \"\"\"\n",
        "    Extracts feature embeddings and labels from a TensorFlow dataset using the base_model.\n",
        "    \"\"\"\n",
        "    X, y = [], []\n",
        "    for batch, labels in dataset:\n",
        "        # Preprocess input according to MobileNetV2 requirements (scaling pixel values)\n",
        "        processed_batch = preprocess_input(batch)\n",
        "        # Get embeddings from the base model\n",
        "        emb = base_model(processed_batch).numpy()\n",
        "        X.append(emb)\n",
        "        y.append(labels.numpy())\n",
        "    return np.vstack(X), np.hstack(y)\n",
        "\n",
        "# Extract embeddings for training and validation datasets\n",
        "X_train, y_train = extract_embeddings(train_ds)\n",
        "X_val, y_val = extract_embeddings(val_ds)\n",
        "num_features = X_train.shape[1] # Number of features (1280 for MobileNetV2 avg pooling)\n",
        "print(f\"Extracted {num_features} features per image. X_train shape: {X_train.shape}, X_val shape: {X_val.shape}\")"
      ]
    },
    {
      "cell_type": "code",
      "execution_count": null,
      "metadata": {
        "id": "gKWY0R9bEgE6"
      },
      "outputs": [],
      "source": [
        "# --- 3. Helper Function: Evaluate a Feature Subset ---\n",
        "def evaluate_features(feature_mask):\n",
        "    \"\"\"\n",
        "    Trains a Logistic Regression classifier on a subset of features defined by the mask\n",
        "    and returns the validation accuracy.\n",
        "    \"\"\"\n",
        "    # If no features are selected, accuracy is 0\n",
        "    if sum(feature_mask) == 0:\n",
        "        return 0\n",
        "\n",
        "    # Initialize and train a Logistic Regression classifier\n",
        "    clf = LogisticRegression(max_iter=500, solver='liblinear', random_state=42) # Added random_state for reproducibility\n",
        "\n",
        "    # Select features based on the mask\n",
        "    X_train_subset = X_train[:, feature_mask==1]\n",
        "    X_val_subset = X_val[:, feature_mask==1]\n",
        "\n",
        "    clf.fit(X_train_subset, y_train)\n",
        "\n",
        "    # Predict on the validation set\n",
        "    y_pred = clf.predict(X_val_subset)\n",
        "\n",
        "    # Return accuracy score\n",
        "    return accuracy_score(y_val, y_pred)\n"
      ]
    },
    {
      "cell_type": "code",
      "execution_count": null,
      "metadata": {
        "id": "3WDwTBQTEgHh"
      },
      "outputs": [],
      "source": [
        "# --- 4. Feature Selection Search Algorithms ---\n",
        "\n",
        "# a. Random Search\n",
        "# -------------------------\n",
        "def random_search(iters=20):\n",
        "    \"\"\"\n",
        "    Randomly samples feature masks and evaluates their performance.\n",
        "    \"\"\"\n",
        "    # print(f\"\\nRunning Random Search for {iters} iterations...\") # Suppressed for cleaner widget output\n",
        "    best_acc, best_mask = 0, None\n",
        "    for i in range(iters):\n",
        "        mask = np.random.randint(0, 2, num_features)\n",
        "        acc = evaluate_features(mask)\n",
        "        if acc > best_acc:\n",
        "            best_acc, best_mask = acc, mask\n",
        "    return best_acc, best_mask\n"
      ]
    },
    {
      "cell_type": "code",
      "execution_count": null,
      "metadata": {
        "id": "lH8z_nBhEgJv"
      },
      "outputs": [],
      "source": [
        "# b. Greedy Search (Forward Selection)\n",
        "# -------------------------\n",
        "def greedy_search():\n",
        "    \"\"\"\n",
        "    Performs a greedy forward selection to find the best feature subset.\n",
        "    \"\"\"\n",
        "    # print(\"\\nRunning Greedy Search...\") # Suppressed for cleaner widget output\n",
        "    mask = np.zeros(num_features, dtype=int)\n",
        "    best_acc = 0\n",
        "    improving = True\n",
        "    # iteration = 0 # Suppressed for cleaner widget output\n",
        "    while improving:\n",
        "        improving = False\n",
        "        current_best_feature_idx = -1\n",
        "        current_best_improvement_acc = best_acc\n",
        "\n",
        "        for i in range(num_features):\n",
        "            if mask[i] == 0: # Only consider unselected features\n",
        "                trial_mask = mask.copy()\n",
        "                trial_mask[i] = 1 # Try adding this feature\n",
        "                acc = evaluate_features(trial_mask)\n",
        "\n",
        "                if acc > current_best_improvement_acc:\n",
        "                    current_best_improvement_acc = acc\n",
        "                    current_best_feature_idx = i\n",
        "                    improving = True\n",
        "\n",
        "        if improving:\n",
        "            mask[current_best_feature_idx] = 1 # Permanently add the best feature\n",
        "            best_acc = current_best_improvement_acc\n",
        "            # iteration += 1 # Suppressed for cleaner widget output\n",
        "            # print(f\"  Greedy Search Iter {iteration}, Added Feature {current_best_feature_idx}, New Best Acc: {best_acc:.4f}\") # Suppressed for cleaner widget output\n",
        "    return best_acc, mask"
      ]
    },
    {
      "cell_type": "code",
      "execution_count": null,
      "metadata": {
        "id": "0EWJoq-QEgMB",
        "colab": {
          "base_uri": "https://localhost:8080/",
          "height": 975,
          "referenced_widgets": [
            "ad8676f0bf1745198480d4e6fde85d5f",
            "c721cc87e84b4a778b8f1b542373ed3f",
            "d59bf69dad944bcab86041bfa3071f6a",
            "864af4cbffc2438dafe89111e4143d39",
            "a570b0a391a0458495d6976faab26b7b",
            "99ed000986f54ea183210e8ea214bc24",
            "3e99a4188e1848cf9c771adfa6f2682f",
            "340d06cb2684482796028c885917a691",
            "04b48685d2354455ae2da63e195dae79",
            "88c8b55206a144e095c979a4ff10cbd1",
            "a6ff6495c2d5413ca5102fce875f87dd",
            "f65c2839f067421fba41c7fe940f3393",
            "c2fedf278f8f480993d6b70b0f1cd2f1",
            "9a41d354e66848e5be2966b5293066c1",
            "855bafd27af347bd9b229902e3b718b6",
            "100e501a5c444cd2aba6927cc8b52758",
            "867c0aa5fe0143359ebe72f2095e0a5d",
            "19307872ccf64722aee76b92efc3daa9",
            "518cc4ee2e9a4d3bb8e08b2dc25f35cb"
          ]
        },
        "outputId": "a075a6c8-4c6b-417c-f7c0-ffe744b4c488"
      },
      "outputs": [
        {
          "output_type": "stream",
          "name": "stdout",
          "text": [
            "\n",
            "--- Adjust Parameters and Run Analysis ---\n"
          ]
        },
        {
          "output_type": "display_data",
          "data": {
            "text/plain": [
              "VBox(children=(IntSlider(value=20, description='Random Search Iters:', min=10, step=5), IntSlider(value=10, de…"
            ],
            "application/vnd.jupyter.widget-view+json": {
              "version_major": 2,
              "version_minor": 0,
              "model_id": "ad8676f0bf1745198480d4e6fde85d5f"
            }
          },
          "metadata": {}
        },
        {
          "output_type": "display_data",
          "data": {
            "text/plain": [
              "Output()"
            ],
            "application/vnd.jupyter.widget-view+json": {
              "version_major": 2,
              "version_minor": 0,
              "model_id": "19307872ccf64722aee76b92efc3daa9"
            }
          },
          "metadata": {}
        }
      ],
      "source": [
        "# c. Genetic Algorithm\n",
        "# -------------------------\n",
        "def genetic_algorithm(pop_size=10, generations=5, mutation_rate=0.1):\n",
        "    \"\"\"\n",
        "    Applies a genetic algorithm to search for the optimal feature mask.\n",
        "    \"\"\"\n",
        "    # print(f\"\\nRunning Genetic Algorithm with pop_size={pop_size}, generations={generations}, mutation_rate={mutation_rate}...\") # Suppressed for cleaner widget output\n",
        "    # Initialize population\n",
        "    population = [np.random.randint(0, 2, num_features) for _ in range(pop_size)]\n",
        "\n",
        "    def fitness(mask):\n",
        "        \"\"\"Helper to calculate fitness (accuracy) of a given mask.\"\"\"\n",
        "        return evaluate_features(mask)\n",
        "\n",
        "    for gen in range(generations):\n",
        "        scores = [fitness(ind) for ind in population]\n",
        "\n",
        "        # Sort population by score and select top half (elitism)\n",
        "        ranked_population = [ind for _, ind in sorted(zip(scores, population), key=lambda x: x[0], reverse=True)]\n",
        "        population = ranked_population[:pop_size//2]  # Keep top half\n",
        "\n",
        "        children = []\n",
        "        while len(children) < pop_size - len(population):\n",
        "            # Select two parents randomly from the current elite population\n",
        "            p1, p2 = random.sample(population, 2)\n",
        "\n",
        "            # Crossover: create a child by combining parents\n",
        "            cut_point = random.randint(0, num_features - 1)\n",
        "            child = np.concatenate([p1[:cut_point], p2[cut_point:]])\n",
        "\n",
        "            # Mutation: randomly flip a bit in the child's mask\n",
        "            if random.random() < mutation_rate:\n",
        "                mutation_idx = random.randint(0, num_features - 1)\n",
        "                child[mutation_idx] = 1 - child[mutation_idx] # Flip 0 to 1 or 1 to 0\n",
        "            children.append(child)\n",
        "\n",
        "        population += children # Add children to the new population\n",
        "\n",
        "        # print(f\"  Genetic Algorithm Gen {gen+1}/{generations}, Best Acc in Gen: {max(scores):.4f}\") # Suppressed for cleaner widget output\n",
        "\n",
        "    # Final evaluation of the last generation's population\n",
        "    final_scores = [fitness(ind) for ind in population]\n",
        "    best_idx = np.argmax(final_scores)\n",
        "\n",
        "    return final_scores[best_idx], population[best_idx]\n",
        "\n",
        "\n",
        "# frontenddd works\n",
        "\n",
        "# Define a function that runs the algorithms and plots the results\n",
        "def run_analysis(rs_iters, ga_pop_size, ga_generations, ga_mutation_rate):\n",
        "    with output_area: # Direct output to the designated output widget\n",
        "        clear_output(wait=True) # Clear previous results for a fresh plot\n",
        "        print(\"--- Starting Algorithm Runs ---\")\n",
        "\n",
        "        # Run algorithms with user-defined parameters\n",
        "        rs_acc, _ = random_search(rs_iters)\n",
        "        # Greedy Search parameters are fixed, so it runs once\n",
        "        gr_acc, _ = greedy_search()\n",
        "        ga_acc, _ = genetic_algorithm(ga_pop_size, ga_generations, ga_mutation_rate)\n",
        "\n",
        "        print(\"--- Algorithm Runs Complete ---\")\n",
        "\n",
        "        print(\"\\n--- Results ---\")\n",
        "        print(f\"Random Search Accuracy: {rs_acc:.4f}\")\n",
        "        print(f\"Greedy Search Accuracy: {gr_acc:.4f}\")\n",
        "        print(f\"Genetic Algorithm Accuracy: {ga_acc:.4f}\")\n",
        "\n",
        "        # --- Visualization ---\n",
        "        print(\"\\n--- Generating Visualization ---\")\n",
        "        algorithms = ['Random Search', 'Greedy Search', 'Genetic Algorithm']\n",
        "        accuracies = [rs_acc, gr_acc, ga_acc]\n",
        "\n",
        "        plt.figure(figsize=(10, 6))\n",
        "        bars = plt.bar(algorithms, accuracies, color=['skyblue', 'lightcoral', 'lightgreen'])\n",
        "\n",
        "        plt.xlabel('Feature Selection Algorithm', fontsize=12)\n",
        "        plt.ylabel('Validation Accuracy', fontsize=12)\n",
        "        plt.title('Comparison of Feature Selection Algorithm Accuracies', fontsize=14, fontweight='bold')\n",
        "\n",
        "        # Adjust y-axis limit dynamically\n",
        "        min_acc = min(accuracies) if accuracies else 0\n",
        "        max_acc = max(accuracies) if accuracies else 0.1\n",
        "        plt.ylim(min_acc * 0.9, max_acc * 1.1 if max_acc > 0 else 0.1)\n",
        "        if plt.ylim()[1] < 0.1:\n",
        "            plt.ylim(0, 0.1)\n",
        "\n",
        "        for bar in bars:\n",
        "            yval = bar.get_height()\n",
        "            plt.text(bar.get_x() + bar.get_width()/2, yval + 0.005, f'{yval:.4f}', ha='center', va='bottom', fontsize=10, color='black')\n",
        "\n",
        "        plt.grid(axis='y', linestyle='--', alpha=0.7)\n",
        "        plt.axhline(y=0.5, color='gray', linestyle=':', linewidth=1, label='Baseline 0.5 (Random Guess)')\n",
        "        plt.legend() # Show legend for baseline\n",
        "        plt.tight_layout()\n",
        "        plt.show()\n",
        "        print(\"Visualization generated successfully.\")\n",
        "\n",
        "\n",
        "# Create widgets for parameters\n",
        "rs_iters_slider = widgets.IntSlider(value=20, min=10, max=100, step=5, description='Random Search Iters:')\n",
        "ga_pop_size_slider = widgets.IntSlider(value=10, min=5, max=50, step=5, description='GA Pop Size:')\n",
        "ga_generations_slider = widgets.IntSlider(value=5, min=1, max=20, step=1, description='GA Generations:')\n",
        "ga_mutation_rate_slider = widgets.FloatSlider(value=0.1, min=0.01, max=0.5, step=0.05, description='GA Mutation Rate:')\n",
        "run_button = widgets.Button(description=\"Run Analysis\")\n",
        "output_area = widgets.Output() # Create an output area widget\n",
        "\n",
        "# Display widgets\n",
        "print(\"\\n--- Adjust Parameters and Run Analysis ---\")\n",
        "display(widgets.VBox([\n",
        "    rs_iters_slider,\n",
        "    ga_pop_size_slider,\n",
        "    ga_generations_slider,\n",
        "    ga_mutation_rate_slider,\n",
        "    run_button\n",
        "]), output_area)\n",
        "\n",
        "# Define the action for the button click\n",
        "def on_button_clicked(b):\n",
        "    run_analysis(\n",
        "        rs_iters_slider.value,\n",
        "        ga_pop_size_slider.value,\n",
        "        ga_generations_slider.value,\n",
        "        ga_mutation_rate_slider.value\n",
        "    )\n",
        "\n",
        "run_button.on_click(on_button_clicked)\n",
        "\n",
        "# Optional: Run analysis once on startup with default values\n",
        "with output_area:\n",
        "    run_analysis(\n",
        "        rs_iters_slider.value,\n",
        "        ga_pop_size_slider.value,\n",
        "        ga_generations_slider.value,\n",
        "        ga_mutation_rate_slider.value\n",
        "    )\n"
      ]
    },
    {
      "cell_type": "code",
      "execution_count": null,
      "metadata": {
        "id": "y6gft1bqEgOh"
      },
      "outputs": [],
      "source": []
    },
    {
      "cell_type": "markdown",
      "source": [],
      "metadata": {
        "id": "DOVuOWrDSAjx"
      }
    },
    {
      "cell_type": "code",
      "execution_count": null,
      "metadata": {
        "id": "Z0srgIrAEgR4"
      },
      "outputs": [],
      "source": []
    }
  ],
  "metadata": {
    "colab": {
      "provenance": []
    },
    "kernelspec": {
      "display_name": "Python 3",
      "name": "python3"
    },
    "language_info": {
      "name": "python"
    },
    "widgets": {
      "application/vnd.jupyter.widget-state+json": {
        "ad8676f0bf1745198480d4e6fde85d5f": {
          "model_module": "@jupyter-widgets/controls",
          "model_name": "VBoxModel",
          "model_module_version": "1.5.0",
          "state": {
            "_dom_classes": [],
            "_model_module": "@jupyter-widgets/controls",
            "_model_module_version": "1.5.0",
            "_model_name": "VBoxModel",
            "_view_count": null,
            "_view_module": "@jupyter-widgets/controls",
            "_view_module_version": "1.5.0",
            "_view_name": "VBoxView",
            "box_style": "",
            "children": [
              "IPY_MODEL_c721cc87e84b4a778b8f1b542373ed3f",
              "IPY_MODEL_d59bf69dad944bcab86041bfa3071f6a",
              "IPY_MODEL_864af4cbffc2438dafe89111e4143d39",
              "IPY_MODEL_a570b0a391a0458495d6976faab26b7b",
              "IPY_MODEL_99ed000986f54ea183210e8ea214bc24"
            ],
            "layout": "IPY_MODEL_3e99a4188e1848cf9c771adfa6f2682f"
          }
        },
        "c721cc87e84b4a778b8f1b542373ed3f": {
          "model_module": "@jupyter-widgets/controls",
          "model_name": "IntSliderModel",
          "model_module_version": "1.5.0",
          "state": {
            "_dom_classes": [],
            "_model_module": "@jupyter-widgets/controls",
            "_model_module_version": "1.5.0",
            "_model_name": "IntSliderModel",
            "_view_count": null,
            "_view_module": "@jupyter-widgets/controls",
            "_view_module_version": "1.5.0",
            "_view_name": "IntSliderView",
            "continuous_update": true,
            "description": "Random Search Iters:",
            "description_tooltip": null,
            "disabled": false,
            "layout": "IPY_MODEL_340d06cb2684482796028c885917a691",
            "max": 100,
            "min": 10,
            "orientation": "horizontal",
            "readout": true,
            "readout_format": "d",
            "step": 5,
            "style": "IPY_MODEL_04b48685d2354455ae2da63e195dae79",
            "value": 20
          }
        },
        "d59bf69dad944bcab86041bfa3071f6a": {
          "model_module": "@jupyter-widgets/controls",
          "model_name": "IntSliderModel",
          "model_module_version": "1.5.0",
          "state": {
            "_dom_classes": [],
            "_model_module": "@jupyter-widgets/controls",
            "_model_module_version": "1.5.0",
            "_model_name": "IntSliderModel",
            "_view_count": null,
            "_view_module": "@jupyter-widgets/controls",
            "_view_module_version": "1.5.0",
            "_view_name": "IntSliderView",
            "continuous_update": true,
            "description": "GA Pop Size:",
            "description_tooltip": null,
            "disabled": false,
            "layout": "IPY_MODEL_88c8b55206a144e095c979a4ff10cbd1",
            "max": 50,
            "min": 5,
            "orientation": "horizontal",
            "readout": true,
            "readout_format": "d",
            "step": 5,
            "style": "IPY_MODEL_a6ff6495c2d5413ca5102fce875f87dd",
            "value": 10
          }
        },
        "864af4cbffc2438dafe89111e4143d39": {
          "model_module": "@jupyter-widgets/controls",
          "model_name": "IntSliderModel",
          "model_module_version": "1.5.0",
          "state": {
            "_dom_classes": [],
            "_model_module": "@jupyter-widgets/controls",
            "_model_module_version": "1.5.0",
            "_model_name": "IntSliderModel",
            "_view_count": null,
            "_view_module": "@jupyter-widgets/controls",
            "_view_module_version": "1.5.0",
            "_view_name": "IntSliderView",
            "continuous_update": true,
            "description": "GA Generations:",
            "description_tooltip": null,
            "disabled": false,
            "layout": "IPY_MODEL_f65c2839f067421fba41c7fe940f3393",
            "max": 20,
            "min": 1,
            "orientation": "horizontal",
            "readout": true,
            "readout_format": "d",
            "step": 1,
            "style": "IPY_MODEL_c2fedf278f8f480993d6b70b0f1cd2f1",
            "value": 5
          }
        },
        "a570b0a391a0458495d6976faab26b7b": {
          "model_module": "@jupyter-widgets/controls",
          "model_name": "FloatSliderModel",
          "model_module_version": "1.5.0",
          "state": {
            "_dom_classes": [],
            "_model_module": "@jupyter-widgets/controls",
            "_model_module_version": "1.5.0",
            "_model_name": "FloatSliderModel",
            "_view_count": null,
            "_view_module": "@jupyter-widgets/controls",
            "_view_module_version": "1.5.0",
            "_view_name": "FloatSliderView",
            "continuous_update": true,
            "description": "GA Mutation Rate:",
            "description_tooltip": null,
            "disabled": false,
            "layout": "IPY_MODEL_9a41d354e66848e5be2966b5293066c1",
            "max": 0.5,
            "min": 0.01,
            "orientation": "horizontal",
            "readout": true,
            "readout_format": ".2f",
            "step": 0.05,
            "style": "IPY_MODEL_855bafd27af347bd9b229902e3b718b6",
            "value": 0.1
          }
        },
        "99ed000986f54ea183210e8ea214bc24": {
          "model_module": "@jupyter-widgets/controls",
          "model_name": "ButtonModel",
          "model_module_version": "1.5.0",
          "state": {
            "_dom_classes": [],
            "_model_module": "@jupyter-widgets/controls",
            "_model_module_version": "1.5.0",
            "_model_name": "ButtonModel",
            "_view_count": null,
            "_view_module": "@jupyter-widgets/controls",
            "_view_module_version": "1.5.0",
            "_view_name": "ButtonView",
            "button_style": "",
            "description": "Run Analysis",
            "disabled": false,
            "icon": "",
            "layout": "IPY_MODEL_100e501a5c444cd2aba6927cc8b52758",
            "style": "IPY_MODEL_867c0aa5fe0143359ebe72f2095e0a5d",
            "tooltip": ""
          }
        },
        "3e99a4188e1848cf9c771adfa6f2682f": {
          "model_module": "@jupyter-widgets/base",
          "model_name": "LayoutModel",
          "model_module_version": "1.2.0",
          "state": {
            "_model_module": "@jupyter-widgets/base",
            "_model_module_version": "1.2.0",
            "_model_name": "LayoutModel",
            "_view_count": null,
            "_view_module": "@jupyter-widgets/base",
            "_view_module_version": "1.2.0",
            "_view_name": "LayoutView",
            "align_content": null,
            "align_items": null,
            "align_self": null,
            "border": null,
            "bottom": null,
            "display": null,
            "flex": null,
            "flex_flow": null,
            "grid_area": null,
            "grid_auto_columns": null,
            "grid_auto_flow": null,
            "grid_auto_rows": null,
            "grid_column": null,
            "grid_gap": null,
            "grid_row": null,
            "grid_template_areas": null,
            "grid_template_columns": null,
            "grid_template_rows": null,
            "height": null,
            "justify_content": null,
            "justify_items": null,
            "left": null,
            "margin": null,
            "max_height": null,
            "max_width": null,
            "min_height": null,
            "min_width": null,
            "object_fit": null,
            "object_position": null,
            "order": null,
            "overflow": null,
            "overflow_x": null,
            "overflow_y": null,
            "padding": null,
            "right": null,
            "top": null,
            "visibility": null,
            "width": null
          }
        },
        "340d06cb2684482796028c885917a691": {
          "model_module": "@jupyter-widgets/base",
          "model_name": "LayoutModel",
          "model_module_version": "1.2.0",
          "state": {
            "_model_module": "@jupyter-widgets/base",
            "_model_module_version": "1.2.0",
            "_model_name": "LayoutModel",
            "_view_count": null,
            "_view_module": "@jupyter-widgets/base",
            "_view_module_version": "1.2.0",
            "_view_name": "LayoutView",
            "align_content": null,
            "align_items": null,
            "align_self": null,
            "border": null,
            "bottom": null,
            "display": null,
            "flex": null,
            "flex_flow": null,
            "grid_area": null,
            "grid_auto_columns": null,
            "grid_auto_flow": null,
            "grid_auto_rows": null,
            "grid_column": null,
            "grid_gap": null,
            "grid_row": null,
            "grid_template_areas": null,
            "grid_template_columns": null,
            "grid_template_rows": null,
            "height": null,
            "justify_content": null,
            "justify_items": null,
            "left": null,
            "margin": null,
            "max_height": null,
            "max_width": null,
            "min_height": null,
            "min_width": null,
            "object_fit": null,
            "object_position": null,
            "order": null,
            "overflow": null,
            "overflow_x": null,
            "overflow_y": null,
            "padding": null,
            "right": null,
            "top": null,
            "visibility": null,
            "width": null
          }
        },
        "04b48685d2354455ae2da63e195dae79": {
          "model_module": "@jupyter-widgets/controls",
          "model_name": "SliderStyleModel",
          "model_module_version": "1.5.0",
          "state": {
            "_model_module": "@jupyter-widgets/controls",
            "_model_module_version": "1.5.0",
            "_model_name": "SliderStyleModel",
            "_view_count": null,
            "_view_module": "@jupyter-widgets/base",
            "_view_module_version": "1.2.0",
            "_view_name": "StyleView",
            "description_width": "",
            "handle_color": null
          }
        },
        "88c8b55206a144e095c979a4ff10cbd1": {
          "model_module": "@jupyter-widgets/base",
          "model_name": "LayoutModel",
          "model_module_version": "1.2.0",
          "state": {
            "_model_module": "@jupyter-widgets/base",
            "_model_module_version": "1.2.0",
            "_model_name": "LayoutModel",
            "_view_count": null,
            "_view_module": "@jupyter-widgets/base",
            "_view_module_version": "1.2.0",
            "_view_name": "LayoutView",
            "align_content": null,
            "align_items": null,
            "align_self": null,
            "border": null,
            "bottom": null,
            "display": null,
            "flex": null,
            "flex_flow": null,
            "grid_area": null,
            "grid_auto_columns": null,
            "grid_auto_flow": null,
            "grid_auto_rows": null,
            "grid_column": null,
            "grid_gap": null,
            "grid_row": null,
            "grid_template_areas": null,
            "grid_template_columns": null,
            "grid_template_rows": null,
            "height": null,
            "justify_content": null,
            "justify_items": null,
            "left": null,
            "margin": null,
            "max_height": null,
            "max_width": null,
            "min_height": null,
            "min_width": null,
            "object_fit": null,
            "object_position": null,
            "order": null,
            "overflow": null,
            "overflow_x": null,
            "overflow_y": null,
            "padding": null,
            "right": null,
            "top": null,
            "visibility": null,
            "width": null
          }
        },
        "a6ff6495c2d5413ca5102fce875f87dd": {
          "model_module": "@jupyter-widgets/controls",
          "model_name": "SliderStyleModel",
          "model_module_version": "1.5.0",
          "state": {
            "_model_module": "@jupyter-widgets/controls",
            "_model_module_version": "1.5.0",
            "_model_name": "SliderStyleModel",
            "_view_count": null,
            "_view_module": "@jupyter-widgets/base",
            "_view_module_version": "1.2.0",
            "_view_name": "StyleView",
            "description_width": "",
            "handle_color": null
          }
        },
        "f65c2839f067421fba41c7fe940f3393": {
          "model_module": "@jupyter-widgets/base",
          "model_name": "LayoutModel",
          "model_module_version": "1.2.0",
          "state": {
            "_model_module": "@jupyter-widgets/base",
            "_model_module_version": "1.2.0",
            "_model_name": "LayoutModel",
            "_view_count": null,
            "_view_module": "@jupyter-widgets/base",
            "_view_module_version": "1.2.0",
            "_view_name": "LayoutView",
            "align_content": null,
            "align_items": null,
            "align_self": null,
            "border": null,
            "bottom": null,
            "display": null,
            "flex": null,
            "flex_flow": null,
            "grid_area": null,
            "grid_auto_columns": null,
            "grid_auto_flow": null,
            "grid_auto_rows": null,
            "grid_column": null,
            "grid_gap": null,
            "grid_row": null,
            "grid_template_areas": null,
            "grid_template_columns": null,
            "grid_template_rows": null,
            "height": null,
            "justify_content": null,
            "justify_items": null,
            "left": null,
            "margin": null,
            "max_height": null,
            "max_width": null,
            "min_height": null,
            "min_width": null,
            "object_fit": null,
            "object_position": null,
            "order": null,
            "overflow": null,
            "overflow_x": null,
            "overflow_y": null,
            "padding": null,
            "right": null,
            "top": null,
            "visibility": null,
            "width": null
          }
        },
        "c2fedf278f8f480993d6b70b0f1cd2f1": {
          "model_module": "@jupyter-widgets/controls",
          "model_name": "SliderStyleModel",
          "model_module_version": "1.5.0",
          "state": {
            "_model_module": "@jupyter-widgets/controls",
            "_model_module_version": "1.5.0",
            "_model_name": "SliderStyleModel",
            "_view_count": null,
            "_view_module": "@jupyter-widgets/base",
            "_view_module_version": "1.2.0",
            "_view_name": "StyleView",
            "description_width": "",
            "handle_color": null
          }
        },
        "9a41d354e66848e5be2966b5293066c1": {
          "model_module": "@jupyter-widgets/base",
          "model_name": "LayoutModel",
          "model_module_version": "1.2.0",
          "state": {
            "_model_module": "@jupyter-widgets/base",
            "_model_module_version": "1.2.0",
            "_model_name": "LayoutModel",
            "_view_count": null,
            "_view_module": "@jupyter-widgets/base",
            "_view_module_version": "1.2.0",
            "_view_name": "LayoutView",
            "align_content": null,
            "align_items": null,
            "align_self": null,
            "border": null,
            "bottom": null,
            "display": null,
            "flex": null,
            "flex_flow": null,
            "grid_area": null,
            "grid_auto_columns": null,
            "grid_auto_flow": null,
            "grid_auto_rows": null,
            "grid_column": null,
            "grid_gap": null,
            "grid_row": null,
            "grid_template_areas": null,
            "grid_template_columns": null,
            "grid_template_rows": null,
            "height": null,
            "justify_content": null,
            "justify_items": null,
            "left": null,
            "margin": null,
            "max_height": null,
            "max_width": null,
            "min_height": null,
            "min_width": null,
            "object_fit": null,
            "object_position": null,
            "order": null,
            "overflow": null,
            "overflow_x": null,
            "overflow_y": null,
            "padding": null,
            "right": null,
            "top": null,
            "visibility": null,
            "width": null
          }
        },
        "855bafd27af347bd9b229902e3b718b6": {
          "model_module": "@jupyter-widgets/controls",
          "model_name": "SliderStyleModel",
          "model_module_version": "1.5.0",
          "state": {
            "_model_module": "@jupyter-widgets/controls",
            "_model_module_version": "1.5.0",
            "_model_name": "SliderStyleModel",
            "_view_count": null,
            "_view_module": "@jupyter-widgets/base",
            "_view_module_version": "1.2.0",
            "_view_name": "StyleView",
            "description_width": "",
            "handle_color": null
          }
        },
        "100e501a5c444cd2aba6927cc8b52758": {
          "model_module": "@jupyter-widgets/base",
          "model_name": "LayoutModel",
          "model_module_version": "1.2.0",
          "state": {
            "_model_module": "@jupyter-widgets/base",
            "_model_module_version": "1.2.0",
            "_model_name": "LayoutModel",
            "_view_count": null,
            "_view_module": "@jupyter-widgets/base",
            "_view_module_version": "1.2.0",
            "_view_name": "LayoutView",
            "align_content": null,
            "align_items": null,
            "align_self": null,
            "border": null,
            "bottom": null,
            "display": null,
            "flex": null,
            "flex_flow": null,
            "grid_area": null,
            "grid_auto_columns": null,
            "grid_auto_flow": null,
            "grid_auto_rows": null,
            "grid_column": null,
            "grid_gap": null,
            "grid_row": null,
            "grid_template_areas": null,
            "grid_template_columns": null,
            "grid_template_rows": null,
            "height": null,
            "justify_content": null,
            "justify_items": null,
            "left": null,
            "margin": null,
            "max_height": null,
            "max_width": null,
            "min_height": null,
            "min_width": null,
            "object_fit": null,
            "object_position": null,
            "order": null,
            "overflow": null,
            "overflow_x": null,
            "overflow_y": null,
            "padding": null,
            "right": null,
            "top": null,
            "visibility": null,
            "width": null
          }
        },
        "867c0aa5fe0143359ebe72f2095e0a5d": {
          "model_module": "@jupyter-widgets/controls",
          "model_name": "ButtonStyleModel",
          "model_module_version": "1.5.0",
          "state": {
            "_model_module": "@jupyter-widgets/controls",
            "_model_module_version": "1.5.0",
            "_model_name": "ButtonStyleModel",
            "_view_count": null,
            "_view_module": "@jupyter-widgets/base",
            "_view_module_version": "1.2.0",
            "_view_name": "StyleView",
            "button_color": null,
            "font_weight": ""
          }
        },
        "19307872ccf64722aee76b92efc3daa9": {
          "model_module": "@jupyter-widgets/output",
          "model_name": "OutputModel",
          "model_module_version": "1.0.0",
          "state": {
            "_dom_classes": [],
            "_model_module": "@jupyter-widgets/output",
            "_model_module_version": "1.0.0",
            "_model_name": "OutputModel",
            "_view_count": null,
            "_view_module": "@jupyter-widgets/output",
            "_view_module_version": "1.0.0",
            "_view_name": "OutputView",
            "layout": "IPY_MODEL_518cc4ee2e9a4d3bb8e08b2dc25f35cb",
            "msg_id": "",
            "outputs": [
              {
                "output_type": "stream",
                "name": "stdout",
                "text": [
                  "--- Starting Algorithm Runs ---\n"
                ]
              },
              {
                "output_type": "stream",
                "name": "stdout",
                "text": [
                  "--- Algorithm Runs Complete ---\n",
                  "\n",
                  "--- Results ---\n",
                  "Random Search Accuracy: 0.9950\n",
                  "Greedy Search Accuracy: 0.9950\n",
                  "Genetic Algorithm Accuracy: 0.9900\n",
                  "\n",
                  "--- Generating Visualization ---\n"
                ]
              },
              {
                "output_type": "display_data",
                "data": {
                  "text/plain": "<Figure size 1000x600 with 1 Axes>",
                  "image/png": "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\n"
                },
                "metadata": {}
              },
              {
                "output_type": "stream",
                "name": "stdout",
                "text": [
                  "Visualization generated successfully.\n"
                ]
              }
            ]
          }
        },
        "518cc4ee2e9a4d3bb8e08b2dc25f35cb": {
          "model_module": "@jupyter-widgets/base",
          "model_name": "LayoutModel",
          "model_module_version": "1.2.0",
          "state": {
            "_model_module": "@jupyter-widgets/base",
            "_model_module_version": "1.2.0",
            "_model_name": "LayoutModel",
            "_view_count": null,
            "_view_module": "@jupyter-widgets/base",
            "_view_module_version": "1.2.0",
            "_view_name": "LayoutView",
            "align_content": null,
            "align_items": null,
            "align_self": null,
            "border": null,
            "bottom": null,
            "display": null,
            "flex": null,
            "flex_flow": null,
            "grid_area": null,
            "grid_auto_columns": null,
            "grid_auto_flow": null,
            "grid_auto_rows": null,
            "grid_column": null,
            "grid_gap": null,
            "grid_row": null,
            "grid_template_areas": null,
            "grid_template_columns": null,
            "grid_template_rows": null,
            "height": null,
            "justify_content": null,
            "justify_items": null,
            "left": null,
            "margin": null,
            "max_height": null,
            "max_width": null,
            "min_height": null,
            "min_width": null,
            "object_fit": null,
            "object_position": null,
            "order": null,
            "overflow": null,
            "overflow_x": null,
            "overflow_y": null,
            "padding": null,
            "right": null,
            "top": null,
            "visibility": null,
            "width": null
          }
        }
      }
    }
  },
  "nbformat": 4,
  "nbformat_minor": 0
}